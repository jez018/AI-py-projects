{
 "cells": [
  {
   "cell_type": "code",
   "execution_count": 1,
   "id": "92921b65",
   "metadata": {},
   "outputs": [],
   "source": [
    "import pandas as pd\n",
    "import numpy as np"
   ]
  },
  {
   "cell_type": "code",
   "execution_count": 2,
   "id": "d9c7c4ff",
   "metadata": {},
   "outputs": [],
   "source": [
    "data = pd.read_csv('BTC-USD.csv')"
   ]
  },
  {
   "cell_type": "code",
   "execution_count": 3,
   "id": "18ff08fc",
   "metadata": {},
   "outputs": [],
   "source": [
    "date = 0\n",
    "open = 1\n",
    "high = 2\n",
    "low = 3\n",
    "close = 4"
   ]
  },
  {
   "cell_type": "code",
   "execution_count": 4,
   "id": "f4c401b4",
   "metadata": {},
   "outputs": [
    {
     "data": {
      "text/plain": [
       "10370.820313"
      ]
     },
     "execution_count": 4,
     "metadata": {},
     "output_type": "execute_result"
    }
   ],
   "source": [
    "np.array(data.iloc[0][close]).item()"
   ]
  },
  {
   "cell_type": "code",
   "execution_count": 11,
   "id": "0ae70d2d",
   "metadata": {},
   "outputs": [],
   "source": [
    "a = np.array(data.iloc[0])"
   ]
  },
  {
   "cell_type": "code",
   "execution_count": 17,
   "id": "7c9a18a1",
   "metadata": {},
   "outputs": [
    {
     "data": {
      "text/plain": [
       "10512.328125"
      ]
     },
     "execution_count": 17,
     "metadata": {},
     "output_type": "execute_result"
    }
   ],
   "source": [
    "a[2]"
   ]
  },
  {
   "cell_type": "code",
   "execution_count": 15,
   "id": "45159652",
   "metadata": {},
   "outputs": [
    {
     "data": {
      "text/plain": [
       "numpy.float64"
      ]
     },
     "execution_count": 15,
     "metadata": {},
     "output_type": "execute_result"
    }
   ],
   "source": [
    "type(a[2])"
   ]
  },
  {
   "cell_type": "code",
   "execution_count": 5,
   "id": "1fb9b7fb",
   "metadata": {},
   "outputs": [
    {
     "data": {
      "text/html": [
       "<div>\n",
       "<style scoped>\n",
       "    .dataframe tbody tr th:only-of-type {\n",
       "        vertical-align: middle;\n",
       "    }\n",
       "\n",
       "    .dataframe tbody tr th {\n",
       "        vertical-align: top;\n",
       "    }\n",
       "\n",
       "    .dataframe thead th {\n",
       "        text-align: right;\n",
       "    }\n",
       "</style>\n",
       "<table border=\"1\" class=\"dataframe\">\n",
       "  <thead>\n",
       "    <tr style=\"text-align: right;\">\n",
       "      <th></th>\n",
       "      <th>Date</th>\n",
       "      <th>Open</th>\n",
       "      <th>High</th>\n",
       "      <th>Low</th>\n",
       "      <th>Close</th>\n",
       "      <th>Adj Close</th>\n",
       "      <th>Volume</th>\n",
       "    </tr>\n",
       "  </thead>\n",
       "  <tbody>\n",
       "    <tr>\n",
       "      <th>0</th>\n",
       "      <td>2019-08-26</td>\n",
       "      <td>10126.299805</td>\n",
       "      <td>10512.328125</td>\n",
       "      <td>10126.299805</td>\n",
       "      <td>10370.820313</td>\n",
       "      <td>10370.820313</td>\n",
       "      <td>18438654080</td>\n",
       "    </tr>\n",
       "    <tr>\n",
       "      <th>1</th>\n",
       "      <td>2019-08-27</td>\n",
       "      <td>10372.826172</td>\n",
       "      <td>10381.328125</td>\n",
       "      <td>10087.300781</td>\n",
       "      <td>10185.500000</td>\n",
       "      <td>10185.500000</td>\n",
       "      <td>14762609503</td>\n",
       "    </tr>\n",
       "    <tr>\n",
       "      <th>2</th>\n",
       "      <td>2019-08-28</td>\n",
       "      <td>10203.426758</td>\n",
       "      <td>10279.366211</td>\n",
       "      <td>9716.656250</td>\n",
       "      <td>9754.422852</td>\n",
       "      <td>9754.422852</td>\n",
       "      <td>17603790323</td>\n",
       "    </tr>\n",
       "  </tbody>\n",
       "</table>\n",
       "</div>"
      ],
      "text/plain": [
       "         Date          Open          High           Low         Close  \\\n",
       "0  2019-08-26  10126.299805  10512.328125  10126.299805  10370.820313   \n",
       "1  2019-08-27  10372.826172  10381.328125  10087.300781  10185.500000   \n",
       "2  2019-08-28  10203.426758  10279.366211   9716.656250   9754.422852   \n",
       "\n",
       "      Adj Close       Volume  \n",
       "0  10370.820313  18438654080  \n",
       "1  10185.500000  14762609503  \n",
       "2   9754.422852  17603790323  "
      ]
     },
     "execution_count": 5,
     "metadata": {},
     "output_type": "execute_result"
    }
   ],
   "source": [
    "data.head(3)"
   ]
  },
  {
   "cell_type": "code",
   "execution_count": null,
   "id": "97d2663b",
   "metadata": {},
   "outputs": [],
   "source": []
  }
 ],
 "metadata": {
  "kernelspec": {
   "display_name": "Python 3 (ipykernel)",
   "language": "python",
   "name": "python3"
  },
  "language_info": {
   "codemirror_mode": {
    "name": "ipython",
    "version": 3
   },
   "file_extension": ".py",
   "mimetype": "text/x-python",
   "name": "python",
   "nbconvert_exporter": "python",
   "pygments_lexer": "ipython3",
   "version": "3.11.3"
  }
 },
 "nbformat": 4,
 "nbformat_minor": 5
}
